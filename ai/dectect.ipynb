{
  "cells": [
    {
      "cell_type": "code",
      "execution_count": null,
      "metadata": {
        "id": "2sumsgO9NBU7"
      },
      "outputs": [],
      "source": [
        "!pip install -U ultralytics\n",
        "!pip install comet_ml"
      ]
    },
    {
      "cell_type": "code",
      "execution_count": null,
      "metadata": {
        "colab": {
          "base_uri": "https://localhost:8080/"
        },
        "id": "7MCyutcOC_oe",
        "outputId": "c813cd50-3138-42f6-8fe3-c70ce07ef248"
      },
      "outputs": [
        {
          "name": "stdout",
          "output_type": "stream",
          "text": [
            "Mounted at /content/drive\n"
          ]
        }
      ],
      "source": [
        "from google.colab import drive\n",
        "drive.mount(\"/content/drive\")"
      ]
    },
    {
      "cell_type": "code",
      "execution_count": null,
      "metadata": {
        "colab": {
          "base_uri": "https://localhost:8080/"
        },
        "id": "xnC_SH0DDBjV",
        "outputId": "e854c0ab-ba44-425d-cb4b-8091dec59f42"
      },
      "outputs": [
        {
          "name": "stdout",
          "output_type": "stream",
          "text": [
            "/content/drive/MyDrive/face-detection\n"
          ]
        }
      ],
      "source": [
        "cd /content/drive/MyDrive/face-detection/"
      ]
    },
    {
      "cell_type": "code",
      "execution_count": null,
      "metadata": {
        "id": "cihQwWloNGys"
      },
      "outputs": [],
      "source": [
        "from PIL import Image\n",
        "import matplotlib.pyplot as plt\n",
        "import torch\n",
        "import os\n",
        "import random\n",
        "import numpy as np\n",
        "import pandas as pd"
      ]
    },
    {
      "cell_type": "code",
      "execution_count": null,
      "metadata": {
        "colab": {
          "base_uri": "https://localhost:8080/"
        },
        "id": "J01-WOCR1aZ2",
        "outputId": "f2b0a6c7-6a81-4455-e4a1-50e7c19ab6cd"
      },
      "outputs": [
        {
          "data": {
            "text/plain": [
              "['yolov5', 'faceset.zip', 'faceset', 'dectect.ipynb']"
            ]
          },
          "execution_count": 6,
          "metadata": {},
          "output_type": "execute_result"
        }
      ],
      "source": [
        "root_directory = os.getcwd()\n",
        "os.listdir(root_directory)"
      ]
    },
    {
      "cell_type": "markdown",
      "metadata": {
        "id": "mt1TbPLOcyBa"
      },
      "source": [
        "### Extract file"
      ]
    },
    {
      "cell_type": "code",
      "execution_count": null,
      "metadata": {
        "id": "ifL7xOwFcxfq"
      },
      "outputs": [],
      "source": [
        "\n",
        "# # importing the zipfile module\n",
        "# from zipfile import ZipFile\n",
        "\n",
        "# # loading the temp.zip and creating a zip object\n",
        "# with ZipFile(root_directory+'/faceset.zip', 'r') as zObject:\n",
        "\n",
        "#     # Extracting all the members of the zip\n",
        "#     # into a specific location.\n",
        "#     zObject.extractall()"
      ]
    },
    {
      "cell_type": "markdown",
      "metadata": {
        "id": "BLzPOxFxc4N4"
      },
      "source": [
        "### Remove file because of the limit of gpu"
      ]
    },
    {
      "cell_type": "code",
      "execution_count": null,
      "metadata": {
        "colab": {
          "base_uri": "https://localhost:8080/"
        },
        "id": "ebx8nuWYOkty",
        "outputId": "4d12d793-0e02-41f6-a3e0-d64098c2fd47"
      },
      "outputs": [
        {
          "name": "stdout",
          "output_type": "stream",
          "text": [
            "6304\n",
            "1226\n",
            "2576\n"
          ]
        }
      ],
      "source": [
        "print(len(os.listdir(root_directory+'/faceset/images/train')))\n",
        "print(len(os.listdir(root_directory+'/faceset/images/validation')))\n",
        "print(len(os.listdir(root_directory+'/faceset/images/test')))"
      ]
    },
    {
      "cell_type": "code",
      "execution_count": null,
      "metadata": {
        "colab": {
          "base_uri": "https://localhost:8080/"
        },
        "id": "0JuBNebqZyvM",
        "outputId": "415eaf43-cfc7-4654-c010-5108dda06107"
      },
      "outputs": [
        {
          "name": "stdout",
          "output_type": "stream",
          "text": [
            "8304\n",
            "8304\n"
          ]
        }
      ],
      "source": [
        "# # Remove Train\n",
        "# train_im_list = os.listdir(root_directory+'/faceset/images/train')\n",
        "# train_lb_list = os.listdir(root_directory+'/faceset/labels/train')\n",
        "\n",
        "# num_im_trains = len(train_im_list)\n",
        "# num_lb_trains = len(train_lb_list)\n",
        "\n",
        "# print(num_im_trains)\n",
        "# print(num_lb_trains)\n",
        "\n",
        "# num_remove_train = 2000\n",
        "# for i in range(num_remove_train):\n",
        "#   os.remove(root_directory+'/faceset/images/train/'+ train_im_list[i])\n",
        "#   os.remove(root_directory+'/faceset/labels/train/'+ train_lb_list[i])"
      ]
    },
    {
      "cell_type": "code",
      "execution_count": null,
      "metadata": {
        "colab": {
          "base_uri": "https://localhost:8080/"
        },
        "id": "RK75M5ZPdUMR",
        "outputId": "16152a02-5aec-4931-9345-ea4540763b53"
      },
      "outputs": [
        {
          "name": "stdout",
          "output_type": "stream",
          "text": [
            "num_im_validations =  2226\n",
            "num_lb_validations =  2226\n"
          ]
        }
      ],
      "source": [
        "# # Remove Validation\n",
        "# validation_im_list = os.listdir(root_directory+'/faceset/images/validation')\n",
        "# validation_lb_list = os.listdir(root_directory+'/faceset/labels/validation')\n",
        "\n",
        "# num_im_validations = len(validation_im_list)\n",
        "# num_lb_validations = len(validation_lb_list)\n",
        "\n",
        "# print('num_im_validations = ', num_im_validations)\n",
        "# print('num_lb_validations = ', num_lb_validations)\n",
        "\n",
        "# num_remove_validation = 1000\n",
        "# for i in range(num_remove_validation):\n",
        "#   os.remove(root_directory+'/faceset/images/validation/'+ validation_im_list[i])\n",
        "#   os.remove(root_directory+'/faceset/labels/validation/'+ validation_lb_list[i])"
      ]
    },
    {
      "cell_type": "code",
      "execution_count": null,
      "metadata": {
        "colab": {
          "base_uri": "https://localhost:8080/"
        },
        "id": "aD4S5qU2e-Uk",
        "outputId": "3ae2527f-7684-40ba-c723-71111002395f"
      },
      "outputs": [
        {
          "name": "stdout",
          "output_type": "stream",
          "text": [
            "num_im_trains =  6304\n",
            "num_lb_trains =  6304\n",
            "num_im_validations =  1226\n",
            "num_lb_validations =  1226\n"
          ]
        }
      ],
      "source": [
        "# print(\"after remove\")\n",
        "train_im_list = os.listdir(root_directory+'/faceset/images/train')\n",
        "train_lb_list = os.listdir(root_directory+'/faceset/labels/train')\n",
        "\n",
        "num_im_trains = len(train_im_list)\n",
        "num_lb_trains = len(train_lb_list)\n",
        "\n",
        "print('num_im_trains = ', num_im_trains)\n",
        "print('num_lb_trains = ', num_lb_trains)\n",
        "\n",
        "validation_im_list = os.listdir(root_directory+'/faceset/images/validation')\n",
        "validation_lb_list = os.listdir(root_directory+'/faceset/labels/validation')\n",
        "\n",
        "num_im_validations = len(validation_im_list)\n",
        "num_lb_validations = len(validation_lb_list)\n",
        "\n",
        "print('num_im_validations = ', num_im_validations)\n",
        "print('num_lb_validations = ', num_lb_validations)"
      ]
    },
    {
      "cell_type": "markdown",
      "source": [
        "### Train model using yolov5"
      ],
      "metadata": {
        "id": "WvhYNABQ-SOI"
      }
    },
    {
      "cell_type": "code",
      "execution_count": null,
      "metadata": {
        "id": "GTaEB-swkuha"
      },
      "outputs": [],
      "source": [
        "# !git clone https://github.com/ultralytics/yolov5\n",
        "%cd yolov5\n",
        "%pip install -r \"requirements.txt\""
      ]
    },
    {
      "cell_type": "code",
      "execution_count": null,
      "metadata": {
        "id": "7v8yrAP1qCdc"
      },
      "outputs": [],
      "source": [
        "import yaml\n",
        "\n",
        "dict_file = {\"path\":\"../faceset\",\n",
        "             \"train\":\"images/train\",\n",
        "             \"val\":\"images/validation\",\n",
        "             \"test\":\"images/test\",\n",
        "             \"nc\":0,\n",
        "             \"names\": [\"face\"]}\n",
        "\n",
        "with open(f\"{root_directory}/yolov5/data/dataset.yaml\", 'w') as file:\n",
        "    documents = yaml.dump(dict_file, file)"
      ]
    },
    {
      "cell_type": "markdown",
      "source": [
        "#### Using comet to see log"
      ],
      "metadata": {
        "id": "7AIatjoD-cqo"
      }
    },
    {
      "cell_type": "code",
      "execution_count": null,
      "metadata": {
        "id": "53jbGTO0uhGn"
      },
      "outputs": [],
      "source": [
        "# export COMET_API_KEY=yMa3grmgAcK996bXNQJOP4sIX\n",
        "# For Comet to start tracking a training run,\n",
        "# just add these two lines at the top of\n",
        "# your training script:\n",
        "import comet_ml\n",
        "\n",
        "experiment = comet_ml.Experiment(\n",
        "    api_key=\"yMa3grmgAcK996bXNQJOP4sIX\",\n",
        "    project_name=\"face-dectection-yolov5\"\n",
        ")\n",
        "\n",
        "# Metrics from this training run will now be\n",
        "# available in the Comet UI"
      ]
    },
    {
      "cell_type": "markdown",
      "source": [
        "#### Train Model"
      ],
      "metadata": {
        "id": "plcK8m_p-gkU"
      }
    },
    {
      "cell_type": "code",
      "execution_count": null,
      "metadata": {
        "id": "CT-vwMGtsr90"
      },
      "outputs": [],
      "source": [
        "!python train.py --img 300 --epochs 30 --batch-size 32 --data dataset.yaml --weights yolov5s.pt --name yolo_face_det"
      ]
    },
    {
      "cell_type": "code",
      "execution_count": null,
      "metadata": {
        "colab": {
          "background_save": true
        },
        "id": "DYdQAokurZXf"
      },
      "outputs": [],
      "source": [
        "# Train continue because of the time limit of gg colab\n",
        "# !python train.py --img 300 --epochs 30 --batch-size 32 --data dataset.yaml --weights runs/train/yolo_face_det2/weights/best.pt --name yolo_face_det --workers 2 --resume"
      ]
    },
    {
      "cell_type": "code",
      "execution_count": null,
      "metadata": {
        "id": "iQeiMVCzpB_E"
      },
      "outputs": [],
      "source": [
        "# Detect the face in the image\n",
        "!python detect.py --source ../faceset/images/test/ --weights runs/train/yolo_face_det/weights/best.pt --conf 0.25 --name yolo_face_det"
      ]
    }
  ],
  "metadata": {
    "accelerator": "GPU",
    "colab": {
      "provenance": []
    },
    "kernelspec": {
      "display_name": "Python 3",
      "name": "python3"
    },
    "language_info": {
      "name": "python"
    }
  },
  "nbformat": 4,
  "nbformat_minor": 0
}